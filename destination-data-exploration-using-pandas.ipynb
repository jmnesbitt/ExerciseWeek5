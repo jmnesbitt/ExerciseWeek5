{
 "cells": [
  {
   "cell_type": "markdown",
   "id": "0bb41656",
   "metadata": {
    "papermill": {
     "duration": 0.010642,
     "end_time": "2023-03-15T11:56:51.545331",
     "exception": false,
     "start_time": "2023-03-15T11:56:51.534689",
     "status": "completed"
    },
    "tags": []
   },
   "source": [
    "**This exercise will explore the use of Pandas for a simple data analysis**"
   ]
  },
  {
   "cell_type": "code",
   "execution_count": 1,
   "id": "cd9f7247",
   "metadata": {
    "execution": {
     "iopub.execute_input": "2023-03-15T11:56:51.563703Z",
     "iopub.status.busy": "2023-03-15T11:56:51.562941Z",
     "iopub.status.idle": "2023-03-15T11:56:51.584611Z",
     "shell.execute_reply": "2023-03-15T11:56:51.583663Z"
    },
    "papermill": {
     "duration": 0.03396,
     "end_time": "2023-03-15T11:56:51.587338",
     "exception": false,
     "start_time": "2023-03-15T11:56:51.553378",
     "status": "completed"
    },
    "tags": []
   },
   "outputs": [],
   "source": [
    "# import pandas\n",
    "import pandas as pd\n",
    "\n",
    "# loading data into datafram\n",
    "df = pd.read_csv('/kaggle/input/destination/Destination.csv')"
   ]
  },
  {
   "cell_type": "markdown",
   "id": "03515593",
   "metadata": {
    "papermill": {
     "duration": 0.007556,
     "end_time": "2023-03-15T11:56:51.602729",
     "exception": false,
     "start_time": "2023-03-15T11:56:51.595173",
     "status": "completed"
    },
    "tags": []
   },
   "source": [
    "Use 'df' to display the whole data in as cell."
   ]
  },
  {
   "cell_type": "code",
   "execution_count": 2,
   "id": "1827c0f0",
   "metadata": {
    "execution": {
     "iopub.execute_input": "2023-03-15T11:56:51.620996Z",
     "iopub.status.busy": "2023-03-15T11:56:51.620122Z",
     "iopub.status.idle": "2023-03-15T11:56:51.652544Z",
     "shell.execute_reply": "2023-03-15T11:56:51.651616Z"
    },
    "papermill": {
     "duration": 0.044629,
     "end_time": "2023-03-15T11:56:51.655310",
     "exception": false,
     "start_time": "2023-03-15T11:56:51.610681",
     "status": "completed"
    },
    "tags": []
   },
   "outputs": [
    {
     "data": {
      "text/html": [
       "<div>\n",
       "<style scoped>\n",
       "    .dataframe tbody tr th:only-of-type {\n",
       "        vertical-align: middle;\n",
       "    }\n",
       "\n",
       "    .dataframe tbody tr th {\n",
       "        vertical-align: top;\n",
       "    }\n",
       "\n",
       "    .dataframe thead th {\n",
       "        text-align: right;\n",
       "    }\n",
       "</style>\n",
       "<table border=\"1\" class=\"dataframe\">\n",
       "  <thead>\n",
       "    <tr style=\"text-align: right;\">\n",
       "      <th></th>\n",
       "      <th>id</th>\n",
       "      <th>Destination</th>\n",
       "      <th>Feedback</th>\n",
       "      <th>Avg Rating</th>\n",
       "      <th>All in Hotels</th>\n",
       "      <th>Most Popular</th>\n",
       "    </tr>\n",
       "  </thead>\n",
       "  <tbody>\n",
       "    <tr>\n",
       "      <th>0</th>\n",
       "      <td>1.0</td>\n",
       "      <td>New Zealand</td>\n",
       "      <td>9.0</td>\n",
       "      <td>4.0</td>\n",
       "      <td>5.0</td>\n",
       "      <td>Rotura</td>\n",
       "    </tr>\n",
       "    <tr>\n",
       "      <th>1</th>\n",
       "      <td>2.0</td>\n",
       "      <td>North Pole</td>\n",
       "      <td>8.0</td>\n",
       "      <td>4.0</td>\n",
       "      <td>6.0</td>\n",
       "      <td>Svalbard</td>\n",
       "    </tr>\n",
       "    <tr>\n",
       "      <th>2</th>\n",
       "      <td>3.0</td>\n",
       "      <td>Turkmenistan</td>\n",
       "      <td>7.0</td>\n",
       "      <td>3.0</td>\n",
       "      <td>9.0</td>\n",
       "      <td>Derweze</td>\n",
       "    </tr>\n",
       "    <tr>\n",
       "      <th>3</th>\n",
       "      <td>4.0</td>\n",
       "      <td>Russia</td>\n",
       "      <td>8.0</td>\n",
       "      <td>5.0</td>\n",
       "      <td>17.0</td>\n",
       "      <td>Yekaterinburg</td>\n",
       "    </tr>\n",
       "    <tr>\n",
       "      <th>4</th>\n",
       "      <td>5.0</td>\n",
       "      <td>Austria</td>\n",
       "      <td>9.0</td>\n",
       "      <td>4.0</td>\n",
       "      <td>12.0</td>\n",
       "      <td>Hinterbruhl</td>\n",
       "    </tr>\n",
       "    <tr>\n",
       "      <th>5</th>\n",
       "      <td>6.0</td>\n",
       "      <td>China</td>\n",
       "      <td>8.0</td>\n",
       "      <td>3.0</td>\n",
       "      <td>198.0</td>\n",
       "      <td>Xinjiang</td>\n",
       "    </tr>\n",
       "    <tr>\n",
       "      <th>6</th>\n",
       "      <td>7.0</td>\n",
       "      <td>Italy</td>\n",
       "      <td>9.0</td>\n",
       "      <td>5.0</td>\n",
       "      <td>76.0</td>\n",
       "      <td>Puglia</td>\n",
       "    </tr>\n",
       "    <tr>\n",
       "      <th>7</th>\n",
       "      <td>8.0</td>\n",
       "      <td>France</td>\n",
       "      <td>6.0</td>\n",
       "      <td>3.0</td>\n",
       "      <td>24.0</td>\n",
       "      <td>Nantes</td>\n",
       "    </tr>\n",
       "    <tr>\n",
       "      <th>8</th>\n",
       "      <td>9.0</td>\n",
       "      <td>India</td>\n",
       "      <td>8.0</td>\n",
       "      <td>3.0</td>\n",
       "      <td>45.0</td>\n",
       "      <td>Ladakh</td>\n",
       "    </tr>\n",
       "    <tr>\n",
       "      <th>9</th>\n",
       "      <td>10.0</td>\n",
       "      <td>Indonesia</td>\n",
       "      <td>9.0</td>\n",
       "      <td>4.0</td>\n",
       "      <td>80.0</td>\n",
       "      <td>Aceh</td>\n",
       "    </tr>\n",
       "    <tr>\n",
       "      <th>10</th>\n",
       "      <td>11.0</td>\n",
       "      <td>Japan</td>\n",
       "      <td>10.0</td>\n",
       "      <td>5.0</td>\n",
       "      <td>90.0</td>\n",
       "      <td>Beppu</td>\n",
       "    </tr>\n",
       "    <tr>\n",
       "      <th>11</th>\n",
       "      <td>12.0</td>\n",
       "      <td>Turkey</td>\n",
       "      <td>9.0</td>\n",
       "      <td>4.0</td>\n",
       "      <td>54.0</td>\n",
       "      <td>Faralya</td>\n",
       "    </tr>\n",
       "    <tr>\n",
       "      <th>12</th>\n",
       "      <td>13.0</td>\n",
       "      <td>Palestine</td>\n",
       "      <td>9.0</td>\n",
       "      <td>3.0</td>\n",
       "      <td>5.0</td>\n",
       "      <td>Jerusalem</td>\n",
       "    </tr>\n",
       "    <tr>\n",
       "      <th>13</th>\n",
       "      <td>14.0</td>\n",
       "      <td>Oman</td>\n",
       "      <td>7.0</td>\n",
       "      <td>5.0</td>\n",
       "      <td>2.0</td>\n",
       "      <td>Bahla</td>\n",
       "    </tr>\n",
       "    <tr>\n",
       "      <th>14</th>\n",
       "      <td>15.0</td>\n",
       "      <td>United Kingdom</td>\n",
       "      <td>7.0</td>\n",
       "      <td>4.0</td>\n",
       "      <td>20.0</td>\n",
       "      <td>London</td>\n",
       "    </tr>\n",
       "    <tr>\n",
       "      <th>15</th>\n",
       "      <td>NaN</td>\n",
       "      <td>NaN</td>\n",
       "      <td>NaN</td>\n",
       "      <td>NaN</td>\n",
       "      <td>NaN</td>\n",
       "      <td>NaN</td>\n",
       "    </tr>\n",
       "    <tr>\n",
       "      <th>16</th>\n",
       "      <td>NaN</td>\n",
       "      <td>NaN</td>\n",
       "      <td>NaN</td>\n",
       "      <td>NaN</td>\n",
       "      <td>NaN</td>\n",
       "      <td>NaN</td>\n",
       "    </tr>\n",
       "  </tbody>\n",
       "</table>\n",
       "</div>"
      ],
      "text/plain": [
       "      id     Destination  Feedback  Avg Rating  All in Hotels   Most Popular\n",
       "0    1.0     New Zealand       9.0         4.0            5.0         Rotura\n",
       "1    2.0      North Pole       8.0         4.0            6.0       Svalbard\n",
       "2    3.0    Turkmenistan       7.0         3.0            9.0        Derweze\n",
       "3    4.0          Russia       8.0         5.0           17.0  Yekaterinburg\n",
       "4    5.0         Austria       9.0         4.0           12.0    Hinterbruhl\n",
       "5    6.0           China       8.0         3.0          198.0       Xinjiang\n",
       "6    7.0           Italy       9.0         5.0           76.0         Puglia\n",
       "7    8.0          France       6.0         3.0           24.0         Nantes\n",
       "8    9.0           India       8.0         3.0           45.0         Ladakh\n",
       "9   10.0       Indonesia       9.0         4.0           80.0           Aceh\n",
       "10  11.0           Japan      10.0         5.0           90.0          Beppu\n",
       "11  12.0          Turkey       9.0         4.0           54.0        Faralya\n",
       "12  13.0       Palestine       9.0         3.0            5.0      Jerusalem\n",
       "13  14.0            Oman       7.0         5.0            2.0          Bahla\n",
       "14  15.0  United Kingdom       7.0         4.0           20.0         London\n",
       "15   NaN             NaN       NaN         NaN            NaN            NaN\n",
       "16   NaN             NaN       NaN         NaN            NaN            NaN"
      ]
     },
     "execution_count": 2,
     "metadata": {},
     "output_type": "execute_result"
    }
   ],
   "source": [
    "df"
   ]
  },
  {
   "cell_type": "markdown",
   "id": "6afb6896",
   "metadata": {
    "papermill": {
     "duration": 0.00766,
     "end_time": "2023-03-15T11:56:51.671104",
     "exception": false,
     "start_time": "2023-03-15T11:56:51.663444",
     "status": "completed"
    },
    "tags": []
   },
   "source": [
    "If you have more than 1000+ rows, on;y display the first 5 rows of dataset. Use 'head(10)' to display 10 rows."
   ]
  },
  {
   "cell_type": "code",
   "execution_count": 3,
   "id": "428c08a3",
   "metadata": {
    "execution": {
     "iopub.execute_input": "2023-03-15T11:56:51.689000Z",
     "iopub.status.busy": "2023-03-15T11:56:51.688554Z",
     "iopub.status.idle": "2023-03-15T11:56:51.705628Z",
     "shell.execute_reply": "2023-03-15T11:56:51.704434Z"
    },
    "papermill": {
     "duration": 0.028912,
     "end_time": "2023-03-15T11:56:51.707988",
     "exception": false,
     "start_time": "2023-03-15T11:56:51.679076",
     "status": "completed"
    },
    "tags": []
   },
   "outputs": [
    {
     "data": {
      "text/html": [
       "<div>\n",
       "<style scoped>\n",
       "    .dataframe tbody tr th:only-of-type {\n",
       "        vertical-align: middle;\n",
       "    }\n",
       "\n",
       "    .dataframe tbody tr th {\n",
       "        vertical-align: top;\n",
       "    }\n",
       "\n",
       "    .dataframe thead th {\n",
       "        text-align: right;\n",
       "    }\n",
       "</style>\n",
       "<table border=\"1\" class=\"dataframe\">\n",
       "  <thead>\n",
       "    <tr style=\"text-align: right;\">\n",
       "      <th></th>\n",
       "      <th>id</th>\n",
       "      <th>Destination</th>\n",
       "      <th>Feedback</th>\n",
       "      <th>Avg Rating</th>\n",
       "      <th>All in Hotels</th>\n",
       "      <th>Most Popular</th>\n",
       "    </tr>\n",
       "  </thead>\n",
       "  <tbody>\n",
       "    <tr>\n",
       "      <th>0</th>\n",
       "      <td>1.0</td>\n",
       "      <td>New Zealand</td>\n",
       "      <td>9.0</td>\n",
       "      <td>4.0</td>\n",
       "      <td>5.0</td>\n",
       "      <td>Rotura</td>\n",
       "    </tr>\n",
       "    <tr>\n",
       "      <th>1</th>\n",
       "      <td>2.0</td>\n",
       "      <td>North Pole</td>\n",
       "      <td>8.0</td>\n",
       "      <td>4.0</td>\n",
       "      <td>6.0</td>\n",
       "      <td>Svalbard</td>\n",
       "    </tr>\n",
       "    <tr>\n",
       "      <th>2</th>\n",
       "      <td>3.0</td>\n",
       "      <td>Turkmenistan</td>\n",
       "      <td>7.0</td>\n",
       "      <td>3.0</td>\n",
       "      <td>9.0</td>\n",
       "      <td>Derweze</td>\n",
       "    </tr>\n",
       "    <tr>\n",
       "      <th>3</th>\n",
       "      <td>4.0</td>\n",
       "      <td>Russia</td>\n",
       "      <td>8.0</td>\n",
       "      <td>5.0</td>\n",
       "      <td>17.0</td>\n",
       "      <td>Yekaterinburg</td>\n",
       "    </tr>\n",
       "    <tr>\n",
       "      <th>4</th>\n",
       "      <td>5.0</td>\n",
       "      <td>Austria</td>\n",
       "      <td>9.0</td>\n",
       "      <td>4.0</td>\n",
       "      <td>12.0</td>\n",
       "      <td>Hinterbruhl</td>\n",
       "    </tr>\n",
       "    <tr>\n",
       "      <th>5</th>\n",
       "      <td>6.0</td>\n",
       "      <td>China</td>\n",
       "      <td>8.0</td>\n",
       "      <td>3.0</td>\n",
       "      <td>198.0</td>\n",
       "      <td>Xinjiang</td>\n",
       "    </tr>\n",
       "    <tr>\n",
       "      <th>6</th>\n",
       "      <td>7.0</td>\n",
       "      <td>Italy</td>\n",
       "      <td>9.0</td>\n",
       "      <td>5.0</td>\n",
       "      <td>76.0</td>\n",
       "      <td>Puglia</td>\n",
       "    </tr>\n",
       "    <tr>\n",
       "      <th>7</th>\n",
       "      <td>8.0</td>\n",
       "      <td>France</td>\n",
       "      <td>6.0</td>\n",
       "      <td>3.0</td>\n",
       "      <td>24.0</td>\n",
       "      <td>Nantes</td>\n",
       "    </tr>\n",
       "    <tr>\n",
       "      <th>8</th>\n",
       "      <td>9.0</td>\n",
       "      <td>India</td>\n",
       "      <td>8.0</td>\n",
       "      <td>3.0</td>\n",
       "      <td>45.0</td>\n",
       "      <td>Ladakh</td>\n",
       "    </tr>\n",
       "    <tr>\n",
       "      <th>9</th>\n",
       "      <td>10.0</td>\n",
       "      <td>Indonesia</td>\n",
       "      <td>9.0</td>\n",
       "      <td>4.0</td>\n",
       "      <td>80.0</td>\n",
       "      <td>Aceh</td>\n",
       "    </tr>\n",
       "  </tbody>\n",
       "</table>\n",
       "</div>"
      ],
      "text/plain": [
       "     id   Destination  Feedback  Avg Rating  All in Hotels   Most Popular\n",
       "0   1.0   New Zealand       9.0         4.0            5.0         Rotura\n",
       "1   2.0    North Pole       8.0         4.0            6.0       Svalbard\n",
       "2   3.0  Turkmenistan       7.0         3.0            9.0        Derweze\n",
       "3   4.0        Russia       8.0         5.0           17.0  Yekaterinburg\n",
       "4   5.0       Austria       9.0         4.0           12.0    Hinterbruhl\n",
       "5   6.0         China       8.0         3.0          198.0       Xinjiang\n",
       "6   7.0         Italy       9.0         5.0           76.0         Puglia\n",
       "7   8.0        France       6.0         3.0           24.0         Nantes\n",
       "8   9.0         India       8.0         3.0           45.0         Ladakh\n",
       "9  10.0     Indonesia       9.0         4.0           80.0           Aceh"
      ]
     },
     "execution_count": 3,
     "metadata": {},
     "output_type": "execute_result"
    }
   ],
   "source": [
    "df.head(10)"
   ]
  },
  {
   "cell_type": "code",
   "execution_count": 4,
   "id": "4e50dafb",
   "metadata": {
    "execution": {
     "iopub.execute_input": "2023-03-15T11:56:51.727299Z",
     "iopub.status.busy": "2023-03-15T11:56:51.726193Z",
     "iopub.status.idle": "2023-03-15T11:56:51.743294Z",
     "shell.execute_reply": "2023-03-15T11:56:51.742084Z"
    },
    "papermill": {
     "duration": 0.029509,
     "end_time": "2023-03-15T11:56:51.745882",
     "exception": false,
     "start_time": "2023-03-15T11:56:51.716373",
     "status": "completed"
    },
    "tags": []
   },
   "outputs": [
    {
     "data": {
      "text/html": [
       "<div>\n",
       "<style scoped>\n",
       "    .dataframe tbody tr th:only-of-type {\n",
       "        vertical-align: middle;\n",
       "    }\n",
       "\n",
       "    .dataframe tbody tr th {\n",
       "        vertical-align: top;\n",
       "    }\n",
       "\n",
       "    .dataframe thead th {\n",
       "        text-align: right;\n",
       "    }\n",
       "</style>\n",
       "<table border=\"1\" class=\"dataframe\">\n",
       "  <thead>\n",
       "    <tr style=\"text-align: right;\">\n",
       "      <th></th>\n",
       "      <th>id</th>\n",
       "      <th>Destination</th>\n",
       "      <th>Feedback</th>\n",
       "      <th>Avg Rating</th>\n",
       "      <th>All in Hotels</th>\n",
       "      <th>Most Popular</th>\n",
       "    </tr>\n",
       "  </thead>\n",
       "  <tbody>\n",
       "    <tr>\n",
       "      <th>7</th>\n",
       "      <td>8.0</td>\n",
       "      <td>France</td>\n",
       "      <td>6.0</td>\n",
       "      <td>3.0</td>\n",
       "      <td>24.0</td>\n",
       "      <td>Nantes</td>\n",
       "    </tr>\n",
       "    <tr>\n",
       "      <th>8</th>\n",
       "      <td>9.0</td>\n",
       "      <td>India</td>\n",
       "      <td>8.0</td>\n",
       "      <td>3.0</td>\n",
       "      <td>45.0</td>\n",
       "      <td>Ladakh</td>\n",
       "    </tr>\n",
       "    <tr>\n",
       "      <th>9</th>\n",
       "      <td>10.0</td>\n",
       "      <td>Indonesia</td>\n",
       "      <td>9.0</td>\n",
       "      <td>4.0</td>\n",
       "      <td>80.0</td>\n",
       "      <td>Aceh</td>\n",
       "    </tr>\n",
       "    <tr>\n",
       "      <th>10</th>\n",
       "      <td>11.0</td>\n",
       "      <td>Japan</td>\n",
       "      <td>10.0</td>\n",
       "      <td>5.0</td>\n",
       "      <td>90.0</td>\n",
       "      <td>Beppu</td>\n",
       "    </tr>\n",
       "    <tr>\n",
       "      <th>11</th>\n",
       "      <td>12.0</td>\n",
       "      <td>Turkey</td>\n",
       "      <td>9.0</td>\n",
       "      <td>4.0</td>\n",
       "      <td>54.0</td>\n",
       "      <td>Faralya</td>\n",
       "    </tr>\n",
       "    <tr>\n",
       "      <th>12</th>\n",
       "      <td>13.0</td>\n",
       "      <td>Palestine</td>\n",
       "      <td>9.0</td>\n",
       "      <td>3.0</td>\n",
       "      <td>5.0</td>\n",
       "      <td>Jerusalem</td>\n",
       "    </tr>\n",
       "    <tr>\n",
       "      <th>13</th>\n",
       "      <td>14.0</td>\n",
       "      <td>Oman</td>\n",
       "      <td>7.0</td>\n",
       "      <td>5.0</td>\n",
       "      <td>2.0</td>\n",
       "      <td>Bahla</td>\n",
       "    </tr>\n",
       "    <tr>\n",
       "      <th>14</th>\n",
       "      <td>15.0</td>\n",
       "      <td>United Kingdom</td>\n",
       "      <td>7.0</td>\n",
       "      <td>4.0</td>\n",
       "      <td>20.0</td>\n",
       "      <td>London</td>\n",
       "    </tr>\n",
       "    <tr>\n",
       "      <th>15</th>\n",
       "      <td>NaN</td>\n",
       "      <td>NaN</td>\n",
       "      <td>NaN</td>\n",
       "      <td>NaN</td>\n",
       "      <td>NaN</td>\n",
       "      <td>NaN</td>\n",
       "    </tr>\n",
       "    <tr>\n",
       "      <th>16</th>\n",
       "      <td>NaN</td>\n",
       "      <td>NaN</td>\n",
       "      <td>NaN</td>\n",
       "      <td>NaN</td>\n",
       "      <td>NaN</td>\n",
       "      <td>NaN</td>\n",
       "    </tr>\n",
       "  </tbody>\n",
       "</table>\n",
       "</div>"
      ],
      "text/plain": [
       "      id     Destination  Feedback  Avg Rating  All in Hotels Most Popular\n",
       "7    8.0          France       6.0         3.0           24.0       Nantes\n",
       "8    9.0           India       8.0         3.0           45.0       Ladakh\n",
       "9   10.0       Indonesia       9.0         4.0           80.0         Aceh\n",
       "10  11.0           Japan      10.0         5.0           90.0        Beppu\n",
       "11  12.0          Turkey       9.0         4.0           54.0      Faralya\n",
       "12  13.0       Palestine       9.0         3.0            5.0    Jerusalem\n",
       "13  14.0            Oman       7.0         5.0            2.0        Bahla\n",
       "14  15.0  United Kingdom       7.0         4.0           20.0       London\n",
       "15   NaN             NaN       NaN         NaN            NaN          NaN\n",
       "16   NaN             NaN       NaN         NaN            NaN          NaN"
      ]
     },
     "execution_count": 4,
     "metadata": {},
     "output_type": "execute_result"
    }
   ],
   "source": [
    "df.tail(10)"
   ]
  },
  {
   "cell_type": "markdown",
   "id": "1d5855c1",
   "metadata": {
    "papermill": {
     "duration": 0.008444,
     "end_time": "2023-03-15T11:56:51.764059",
     "exception": false,
     "start_time": "2023-03-15T11:56:51.755615",
     "status": "completed"
    },
    "tags": []
   },
   "source": [
    "# Pandas Two Main Data Structures\n",
    "1. Series\n",
    "2. Dataframs - regular \n"
   ]
  },
  {
   "cell_type": "markdown",
   "id": "fa80b3d8",
   "metadata": {
    "papermill": {
     "duration": 0.008367,
     "end_time": "2023-03-15T11:56:51.781553",
     "exception": false,
     "start_time": "2023-03-15T11:56:51.773186",
     "status": "completed"
    },
    "tags": []
   },
   "source": [
    "1 Series data structure as follows:"
   ]
  },
  {
   "cell_type": "code",
   "execution_count": 5,
   "id": "caa22f69",
   "metadata": {
    "execution": {
     "iopub.execute_input": "2023-03-15T11:56:51.800390Z",
     "iopub.status.busy": "2023-03-15T11:56:51.799986Z",
     "iopub.status.idle": "2023-03-15T11:56:51.812026Z",
     "shell.execute_reply": "2023-03-15T11:56:51.811100Z"
    },
    "papermill": {
     "duration": 0.02426,
     "end_time": "2023-03-15T11:56:51.814341",
     "exception": false,
     "start_time": "2023-03-15T11:56:51.790081",
     "status": "completed"
    },
    "tags": []
   },
   "outputs": [
    {
     "data": {
      "text/plain": [
       "0        New Zealand\n",
       "1         North Pole\n",
       "2       Turkmenistan\n",
       "3             Russia\n",
       "4            Austria\n",
       "5              China\n",
       "6              Italy\n",
       "7             France\n",
       "8              India\n",
       "9          Indonesia\n",
       "10             Japan\n",
       "11            Turkey\n",
       "12         Palestine\n",
       "13              Oman\n",
       "14    United Kingdom\n",
       "15               NaN\n",
       "16               NaN\n",
       "Name: Destination, dtype: object"
      ]
     },
     "execution_count": 5,
     "metadata": {},
     "output_type": "execute_result"
    }
   ],
   "source": [
    "df.Destination # series, will display data as a single column"
   ]
  },
  {
   "cell_type": "code",
   "execution_count": 6,
   "id": "82bb7b7a",
   "metadata": {
    "execution": {
     "iopub.execute_input": "2023-03-15T11:56:51.833880Z",
     "iopub.status.busy": "2023-03-15T11:56:51.833071Z",
     "iopub.status.idle": "2023-03-15T11:56:51.840536Z",
     "shell.execute_reply": "2023-03-15T11:56:51.839588Z"
    },
    "papermill": {
     "duration": 0.01994,
     "end_time": "2023-03-15T11:56:51.842943",
     "exception": false,
     "start_time": "2023-03-15T11:56:51.823003",
     "status": "completed"
    },
    "tags": []
   },
   "outputs": [
    {
     "data": {
      "text/plain": [
       "Index(['id', 'Destination', 'Feedback', 'Avg Rating', 'All in Hotels',\n",
       "       'Most Popular'],\n",
       "      dtype='object')"
      ]
     },
     "execution_count": 6,
     "metadata": {},
     "output_type": "execute_result"
    }
   ],
   "source": [
    "df.columns # this displays titles of all columns"
   ]
  },
  {
   "cell_type": "code",
   "execution_count": 7,
   "id": "fb272b0a",
   "metadata": {
    "execution": {
     "iopub.execute_input": "2023-03-15T11:56:51.863236Z",
     "iopub.status.busy": "2023-03-15T11:56:51.862378Z",
     "iopub.status.idle": "2023-03-15T11:56:51.869707Z",
     "shell.execute_reply": "2023-03-15T11:56:51.868768Z"
    },
    "papermill": {
     "duration": 0.020291,
     "end_time": "2023-03-15T11:56:51.872056",
     "exception": false,
     "start_time": "2023-03-15T11:56:51.851765",
     "status": "completed"
    },
    "tags": []
   },
   "outputs": [
    {
     "data": {
      "text/plain": [
       "RangeIndex(start=0, stop=17, step=1)"
      ]
     },
     "execution_count": 7,
     "metadata": {},
     "output_type": "execute_result"
    }
   ],
   "source": [
    "df.index"
   ]
  },
  {
   "cell_type": "markdown",
   "id": "32ebfd90",
   "metadata": {
    "papermill": {
     "duration": 0.008551,
     "end_time": "2023-03-15T11:56:51.889455",
     "exception": false,
     "start_time": "2023-03-15T11:56:51.880904",
     "status": "completed"
    },
    "tags": []
   },
   "source": [
    "How many rows and columns does the dataset has?"
   ]
  },
  {
   "cell_type": "code",
   "execution_count": 8,
   "id": "74d4330b",
   "metadata": {
    "execution": {
     "iopub.execute_input": "2023-03-15T11:56:51.911152Z",
     "iopub.status.busy": "2023-03-15T11:56:51.910260Z",
     "iopub.status.idle": "2023-03-15T11:56:51.917953Z",
     "shell.execute_reply": "2023-03-15T11:56:51.916957Z"
    },
    "papermill": {
     "duration": 0.021184,
     "end_time": "2023-03-15T11:56:51.920345",
     "exception": false,
     "start_time": "2023-03-15T11:56:51.899161",
     "status": "completed"
    },
    "tags": []
   },
   "outputs": [
    {
     "data": {
      "text/plain": [
       "(17, 6)"
      ]
     },
     "execution_count": 8,
     "metadata": {},
     "output_type": "execute_result"
    }
   ],
   "source": [
    "df.shape # return a tuple (rows, columns)"
   ]
  },
  {
   "cell_type": "code",
   "execution_count": 9,
   "id": "16170608",
   "metadata": {
    "execution": {
     "iopub.execute_input": "2023-03-15T11:56:51.941281Z",
     "iopub.status.busy": "2023-03-15T11:56:51.940388Z",
     "iopub.status.idle": "2023-03-15T11:56:51.949406Z",
     "shell.execute_reply": "2023-03-15T11:56:51.948436Z"
    },
    "papermill": {
     "duration": 0.022373,
     "end_time": "2023-03-15T11:56:51.951821",
     "exception": false,
     "start_time": "2023-03-15T11:56:51.929448",
     "status": "completed"
    },
    "tags": []
   },
   "outputs": [
    {
     "data": {
      "text/plain": [
       "id               float64\n",
       "Destination       object\n",
       "Feedback         float64\n",
       "Avg Rating       float64\n",
       "All in Hotels    float64\n",
       "Most Popular      object\n",
       "dtype: object"
      ]
     },
     "execution_count": 9,
     "metadata": {},
     "output_type": "execute_result"
    }
   ],
   "source": [
    "df.dtypes # will display dara type stored in each row, Object = String"
   ]
  },
  {
   "cell_type": "code",
   "execution_count": 10,
   "id": "a4194fad",
   "metadata": {
    "execution": {
     "iopub.execute_input": "2023-03-15T11:56:51.973903Z",
     "iopub.status.busy": "2023-03-15T11:56:51.973466Z",
     "iopub.status.idle": "2023-03-15T11:56:51.994888Z",
     "shell.execute_reply": "2023-03-15T11:56:51.993501Z"
    },
    "papermill": {
     "duration": 0.035854,
     "end_time": "2023-03-15T11:56:51.998440",
     "exception": false,
     "start_time": "2023-03-15T11:56:51.962586",
     "status": "completed"
    },
    "tags": []
   },
   "outputs": [
    {
     "name": "stdout",
     "output_type": "stream",
     "text": [
      "<class 'pandas.core.frame.DataFrame'>\n",
      "RangeIndex: 17 entries, 0 to 16\n",
      "Data columns (total 6 columns):\n",
      " #   Column         Non-Null Count  Dtype  \n",
      "---  ------         --------------  -----  \n",
      " 0   id             15 non-null     float64\n",
      " 1   Destination    15 non-null     object \n",
      " 2   Feedback       15 non-null     float64\n",
      " 3   Avg Rating     15 non-null     float64\n",
      " 4   All in Hotels  15 non-null     float64\n",
      " 5   Most Popular   15 non-null     object \n",
      "dtypes: float64(4), object(2)\n",
      "memory usage: 944.0+ bytes\n"
     ]
    }
   ],
   "source": [
    "df.info() # information about the datafram"
   ]
  },
  {
   "cell_type": "code",
   "execution_count": 11,
   "id": "0f7a2bf1",
   "metadata": {
    "execution": {
     "iopub.execute_input": "2023-03-15T11:56:52.020275Z",
     "iopub.status.busy": "2023-03-15T11:56:52.019387Z",
     "iopub.status.idle": "2023-03-15T11:56:52.028833Z",
     "shell.execute_reply": "2023-03-15T11:56:52.027597Z"
    },
    "papermill": {
     "duration": 0.02283,
     "end_time": "2023-03-15T11:56:52.031237",
     "exception": false,
     "start_time": "2023-03-15T11:56:52.008407",
     "status": "completed"
    },
    "tags": []
   },
   "outputs": [
    {
     "data": {
      "text/plain": [
       "0      9.0\n",
       "1      8.0\n",
       "2      7.0\n",
       "3      8.0\n",
       "4      9.0\n",
       "5      8.0\n",
       "6      9.0\n",
       "7      6.0\n",
       "8      8.0\n",
       "9      9.0\n",
       "10    10.0\n",
       "11     9.0\n",
       "12     9.0\n",
       "13     7.0\n",
       "14     7.0\n",
       "15     NaN\n",
       "16     NaN\n",
       "Name: Feedback, dtype: float64"
      ]
     },
     "execution_count": 11,
     "metadata": {},
     "output_type": "execute_result"
    }
   ],
   "source": [
    "df.Feedback # display only feedback column datas"
   ]
  },
  {
   "cell_type": "code",
   "execution_count": 12,
   "id": "132ea36e",
   "metadata": {
    "execution": {
     "iopub.execute_input": "2023-03-15T11:56:52.052066Z",
     "iopub.status.busy": "2023-03-15T11:56:52.051631Z",
     "iopub.status.idle": "2023-03-15T11:56:52.064583Z",
     "shell.execute_reply": "2023-03-15T11:56:52.063214Z"
    },
    "papermill": {
     "duration": 0.026769,
     "end_time": "2023-03-15T11:56:52.067350",
     "exception": false,
     "start_time": "2023-03-15T11:56:52.040581",
     "status": "completed"
    },
    "tags": []
   },
   "outputs": [
    {
     "data": {
      "text/html": [
       "<div>\n",
       "<style scoped>\n",
       "    .dataframe tbody tr th:only-of-type {\n",
       "        vertical-align: middle;\n",
       "    }\n",
       "\n",
       "    .dataframe tbody tr th {\n",
       "        vertical-align: top;\n",
       "    }\n",
       "\n",
       "    .dataframe thead th {\n",
       "        text-align: right;\n",
       "    }\n",
       "</style>\n",
       "<table border=\"1\" class=\"dataframe\">\n",
       "  <thead>\n",
       "    <tr style=\"text-align: right;\">\n",
       "      <th></th>\n",
       "      <th>Destination</th>\n",
       "      <th>Feedback</th>\n",
       "    </tr>\n",
       "  </thead>\n",
       "  <tbody>\n",
       "    <tr>\n",
       "      <th>0</th>\n",
       "      <td>New Zealand</td>\n",
       "      <td>9.0</td>\n",
       "    </tr>\n",
       "    <tr>\n",
       "      <th>1</th>\n",
       "      <td>North Pole</td>\n",
       "      <td>8.0</td>\n",
       "    </tr>\n",
       "    <tr>\n",
       "      <th>2</th>\n",
       "      <td>Turkmenistan</td>\n",
       "      <td>7.0</td>\n",
       "    </tr>\n",
       "    <tr>\n",
       "      <th>3</th>\n",
       "      <td>Russia</td>\n",
       "      <td>8.0</td>\n",
       "    </tr>\n",
       "    <tr>\n",
       "      <th>4</th>\n",
       "      <td>Austria</td>\n",
       "      <td>9.0</td>\n",
       "    </tr>\n",
       "  </tbody>\n",
       "</table>\n",
       "</div>"
      ],
      "text/plain": [
       "    Destination  Feedback\n",
       "0   New Zealand       9.0\n",
       "1    North Pole       8.0\n",
       "2  Turkmenistan       7.0\n",
       "3        Russia       8.0\n",
       "4       Austria       9.0"
      ]
     },
     "execution_count": 12,
     "metadata": {},
     "output_type": "execute_result"
    }
   ],
   "source": [
    "df[['Destination', 'Feedback']].head() #select only twp columns from the frist 5 rows"
   ]
  },
  {
   "cell_type": "code",
   "execution_count": 13,
   "id": "26dcbcb9",
   "metadata": {
    "execution": {
     "iopub.execute_input": "2023-03-15T11:56:52.088394Z",
     "iopub.status.busy": "2023-03-15T11:56:52.087982Z",
     "iopub.status.idle": "2023-03-15T11:56:52.097246Z",
     "shell.execute_reply": "2023-03-15T11:56:52.095923Z"
    },
    "papermill": {
     "duration": 0.022949,
     "end_time": "2023-03-15T11:56:52.100008",
     "exception": false,
     "start_time": "2023-03-15T11:56:52.077059",
     "status": "completed"
    },
    "tags": []
   },
   "outputs": [
    {
     "data": {
      "text/plain": [
       "0           Rotura\n",
       "1         Svalbard\n",
       "2          Derweze\n",
       "3    Yekaterinburg\n",
       "4      Hinterbruhl\n",
       "Name: Most Popular, dtype: object"
      ]
     },
     "execution_count": 13,
     "metadata": {},
     "output_type": "execute_result"
    }
   ],
   "source": [
    "df['Most Popular'].head()"
   ]
  },
  {
   "cell_type": "code",
   "execution_count": 14,
   "id": "e5711f9b",
   "metadata": {
    "execution": {
     "iopub.execute_input": "2023-03-15T11:56:52.121449Z",
     "iopub.status.busy": "2023-03-15T11:56:52.120992Z",
     "iopub.status.idle": "2023-03-15T11:56:52.137660Z",
     "shell.execute_reply": "2023-03-15T11:56:52.136332Z"
    },
    "papermill": {
     "duration": 0.030258,
     "end_time": "2023-03-15T11:56:52.140152",
     "exception": false,
     "start_time": "2023-03-15T11:56:52.109894",
     "status": "completed"
    },
    "tags": []
   },
   "outputs": [
    {
     "data": {
      "text/html": [
       "<div>\n",
       "<style scoped>\n",
       "    .dataframe tbody tr th:only-of-type {\n",
       "        vertical-align: middle;\n",
       "    }\n",
       "\n",
       "    .dataframe tbody tr th {\n",
       "        vertical-align: top;\n",
       "    }\n",
       "\n",
       "    .dataframe thead th {\n",
       "        text-align: right;\n",
       "    }\n",
       "</style>\n",
       "<table border=\"1\" class=\"dataframe\">\n",
       "  <thead>\n",
       "    <tr style=\"text-align: right;\">\n",
       "      <th></th>\n",
       "      <th>id</th>\n",
       "      <th>Destination</th>\n",
       "      <th>Feedback</th>\n",
       "      <th>Avg Rating</th>\n",
       "      <th>All in Hotels</th>\n",
       "      <th>Most Popular</th>\n",
       "    </tr>\n",
       "  </thead>\n",
       "  <tbody>\n",
       "    <tr>\n",
       "      <th>4</th>\n",
       "      <td>5.0</td>\n",
       "      <td>Austria</td>\n",
       "      <td>9.0</td>\n",
       "      <td>4.0</td>\n",
       "      <td>12.0</td>\n",
       "      <td>Hinterbruhl</td>\n",
       "    </tr>\n",
       "    <tr>\n",
       "      <th>5</th>\n",
       "      <td>6.0</td>\n",
       "      <td>China</td>\n",
       "      <td>8.0</td>\n",
       "      <td>3.0</td>\n",
       "      <td>198.0</td>\n",
       "      <td>Xinjiang</td>\n",
       "    </tr>\n",
       "    <tr>\n",
       "      <th>6</th>\n",
       "      <td>7.0</td>\n",
       "      <td>Italy</td>\n",
       "      <td>9.0</td>\n",
       "      <td>5.0</td>\n",
       "      <td>76.0</td>\n",
       "      <td>Puglia</td>\n",
       "    </tr>\n",
       "    <tr>\n",
       "      <th>7</th>\n",
       "      <td>8.0</td>\n",
       "      <td>France</td>\n",
       "      <td>6.0</td>\n",
       "      <td>3.0</td>\n",
       "      <td>24.0</td>\n",
       "      <td>Nantes</td>\n",
       "    </tr>\n",
       "    <tr>\n",
       "      <th>8</th>\n",
       "      <td>9.0</td>\n",
       "      <td>India</td>\n",
       "      <td>8.0</td>\n",
       "      <td>3.0</td>\n",
       "      <td>45.0</td>\n",
       "      <td>Ladakh</td>\n",
       "    </tr>\n",
       "    <tr>\n",
       "      <th>9</th>\n",
       "      <td>10.0</td>\n",
       "      <td>Indonesia</td>\n",
       "      <td>9.0</td>\n",
       "      <td>4.0</td>\n",
       "      <td>80.0</td>\n",
       "      <td>Aceh</td>\n",
       "    </tr>\n",
       "  </tbody>\n",
       "</table>\n",
       "</div>"
      ],
      "text/plain": [
       "     id Destination  Feedback  Avg Rating  All in Hotels Most Popular\n",
       "4   5.0     Austria       9.0         4.0           12.0  Hinterbruhl\n",
       "5   6.0       China       8.0         3.0          198.0     Xinjiang\n",
       "6   7.0       Italy       9.0         5.0           76.0       Puglia\n",
       "7   8.0      France       6.0         3.0           24.0       Nantes\n",
       "8   9.0       India       8.0         3.0           45.0       Ladakh\n",
       "9  10.0   Indonesia       9.0         4.0           80.0         Aceh"
      ]
     },
     "execution_count": 14,
     "metadata": {},
     "output_type": "execute_result"
    }
   ],
   "source": [
    "# use formal python indexing to select rows\n",
    "df[4:10]\n",
    "#Display rows 4-9"
   ]
  },
  {
   "cell_type": "code",
   "execution_count": 15,
   "id": "e6e8aba3",
   "metadata": {
    "execution": {
     "iopub.execute_input": "2023-03-15T11:56:52.162467Z",
     "iopub.status.busy": "2023-03-15T11:56:52.162005Z",
     "iopub.status.idle": "2023-03-15T11:56:52.175747Z",
     "shell.execute_reply": "2023-03-15T11:56:52.174497Z"
    },
    "papermill": {
     "duration": 0.028077,
     "end_time": "2023-03-15T11:56:52.178395",
     "exception": false,
     "start_time": "2023-03-15T11:56:52.150318",
     "status": "completed"
    },
    "tags": []
   },
   "outputs": [
    {
     "data": {
      "text/html": [
       "<div>\n",
       "<style scoped>\n",
       "    .dataframe tbody tr th:only-of-type {\n",
       "        vertical-align: middle;\n",
       "    }\n",
       "\n",
       "    .dataframe tbody tr th {\n",
       "        vertical-align: top;\n",
       "    }\n",
       "\n",
       "    .dataframe thead th {\n",
       "        text-align: right;\n",
       "    }\n",
       "</style>\n",
       "<table border=\"1\" class=\"dataframe\">\n",
       "  <thead>\n",
       "    <tr style=\"text-align: right;\">\n",
       "      <th></th>\n",
       "      <th>Destination</th>\n",
       "      <th>Feedback</th>\n",
       "      <th>Avg Rating</th>\n",
       "    </tr>\n",
       "  </thead>\n",
       "  <tbody>\n",
       "    <tr>\n",
       "      <th>1</th>\n",
       "      <td>North Pole</td>\n",
       "      <td>8.0</td>\n",
       "      <td>4.0</td>\n",
       "    </tr>\n",
       "    <tr>\n",
       "      <th>2</th>\n",
       "      <td>Turkmenistan</td>\n",
       "      <td>7.0</td>\n",
       "      <td>3.0</td>\n",
       "    </tr>\n",
       "    <tr>\n",
       "      <th>3</th>\n",
       "      <td>Russia</td>\n",
       "      <td>8.0</td>\n",
       "      <td>5.0</td>\n",
       "    </tr>\n",
       "  </tbody>\n",
       "</table>\n",
       "</div>"
      ],
      "text/plain": [
       "    Destination  Feedback  Avg Rating\n",
       "1    North Pole       8.0         4.0\n",
       "2  Turkmenistan       7.0         3.0\n",
       "3        Russia       8.0         5.0"
      ]
     },
     "execution_count": 15,
     "metadata": {},
     "output_type": "execute_result"
    }
   ],
   "source": [
    "# use df.iloc [start:stop, [column0,column1,column2]]\n",
    "df.iloc[1:4, [1, 2, 3]]"
   ]
  },
  {
   "cell_type": "code",
   "execution_count": 16,
   "id": "4dbe9377",
   "metadata": {
    "execution": {
     "iopub.execute_input": "2023-03-15T11:56:52.201446Z",
     "iopub.status.busy": "2023-03-15T11:56:52.200970Z",
     "iopub.status.idle": "2023-03-15T11:56:52.218039Z",
     "shell.execute_reply": "2023-03-15T11:56:52.216608Z"
    },
    "papermill": {
     "duration": 0.031271,
     "end_time": "2023-03-15T11:56:52.220438",
     "exception": false,
     "start_time": "2023-03-15T11:56:52.189167",
     "status": "completed"
    },
    "tags": []
   },
   "outputs": [
    {
     "data": {
      "text/html": [
       "<div>\n",
       "<style scoped>\n",
       "    .dataframe tbody tr th:only-of-type {\n",
       "        vertical-align: middle;\n",
       "    }\n",
       "\n",
       "    .dataframe tbody tr th {\n",
       "        vertical-align: top;\n",
       "    }\n",
       "\n",
       "    .dataframe thead th {\n",
       "        text-align: right;\n",
       "    }\n",
       "</style>\n",
       "<table border=\"1\" class=\"dataframe\">\n",
       "  <thead>\n",
       "    <tr style=\"text-align: right;\">\n",
       "      <th></th>\n",
       "      <th>id</th>\n",
       "      <th>Destination</th>\n",
       "      <th>Feedback</th>\n",
       "      <th>Avg_Rating</th>\n",
       "      <th>All in Hotels</th>\n",
       "      <th>Most Popular</th>\n",
       "    </tr>\n",
       "  </thead>\n",
       "  <tbody>\n",
       "    <tr>\n",
       "      <th>0</th>\n",
       "      <td>1.0</td>\n",
       "      <td>New Zealand</td>\n",
       "      <td>9.0</td>\n",
       "      <td>4.0</td>\n",
       "      <td>5.0</td>\n",
       "      <td>Rotura</td>\n",
       "    </tr>\n",
       "    <tr>\n",
       "      <th>1</th>\n",
       "      <td>2.0</td>\n",
       "      <td>North Pole</td>\n",
       "      <td>8.0</td>\n",
       "      <td>4.0</td>\n",
       "      <td>6.0</td>\n",
       "      <td>Svalbard</td>\n",
       "    </tr>\n",
       "    <tr>\n",
       "      <th>2</th>\n",
       "      <td>3.0</td>\n",
       "      <td>Turkmenistan</td>\n",
       "      <td>7.0</td>\n",
       "      <td>3.0</td>\n",
       "      <td>9.0</td>\n",
       "      <td>Derweze</td>\n",
       "    </tr>\n",
       "    <tr>\n",
       "      <th>3</th>\n",
       "      <td>4.0</td>\n",
       "      <td>Russia</td>\n",
       "      <td>8.0</td>\n",
       "      <td>5.0</td>\n",
       "      <td>17.0</td>\n",
       "      <td>Yekaterinburg</td>\n",
       "    </tr>\n",
       "    <tr>\n",
       "      <th>4</th>\n",
       "      <td>5.0</td>\n",
       "      <td>Austria</td>\n",
       "      <td>9.0</td>\n",
       "      <td>4.0</td>\n",
       "      <td>12.0</td>\n",
       "      <td>Hinterbruhl</td>\n",
       "    </tr>\n",
       "  </tbody>\n",
       "</table>\n",
       "</div>"
      ],
      "text/plain": [
       "    id   Destination  Feedback  Avg_Rating  All in Hotels   Most Popular\n",
       "0  1.0   New Zealand       9.0         4.0            5.0         Rotura\n",
       "1  2.0    North Pole       8.0         4.0            6.0       Svalbard\n",
       "2  3.0  Turkmenistan       7.0         3.0            9.0        Derweze\n",
       "3  4.0        Russia       8.0         5.0           17.0  Yekaterinburg\n",
       "4  5.0       Austria       9.0         4.0           12.0    Hinterbruhl"
      ]
     },
     "execution_count": 16,
     "metadata": {},
     "output_type": "execute_result"
    }
   ],
   "source": [
    "df.rename(columns = {'Avg Rating' : 'Avg_Rating'}).head()"
   ]
  },
  {
   "cell_type": "code",
   "execution_count": 17,
   "id": "70ae5fbc",
   "metadata": {
    "execution": {
     "iopub.execute_input": "2023-03-15T11:56:52.242900Z",
     "iopub.status.busy": "2023-03-15T11:56:52.242454Z",
     "iopub.status.idle": "2023-03-15T11:56:52.257400Z",
     "shell.execute_reply": "2023-03-15T11:56:52.256538Z"
    },
    "papermill": {
     "duration": 0.02906,
     "end_time": "2023-03-15T11:56:52.259784",
     "exception": false,
     "start_time": "2023-03-15T11:56:52.230724",
     "status": "completed"
    },
    "tags": []
   },
   "outputs": [
    {
     "data": {
      "text/html": [
       "<div>\n",
       "<style scoped>\n",
       "    .dataframe tbody tr th:only-of-type {\n",
       "        vertical-align: middle;\n",
       "    }\n",
       "\n",
       "    .dataframe tbody tr th {\n",
       "        vertical-align: top;\n",
       "    }\n",
       "\n",
       "    .dataframe thead th {\n",
       "        text-align: right;\n",
       "    }\n",
       "</style>\n",
       "<table border=\"1\" class=\"dataframe\">\n",
       "  <thead>\n",
       "    <tr style=\"text-align: right;\">\n",
       "      <th></th>\n",
       "      <th>id</th>\n",
       "      <th>Destination</th>\n",
       "      <th>Feedback</th>\n",
       "      <th>Avg Rating</th>\n",
       "      <th>Hotel_Count</th>\n",
       "      <th>Most Popular</th>\n",
       "    </tr>\n",
       "  </thead>\n",
       "  <tbody>\n",
       "    <tr>\n",
       "      <th>0</th>\n",
       "      <td>1.0</td>\n",
       "      <td>New Zealand</td>\n",
       "      <td>9.0</td>\n",
       "      <td>4.0</td>\n",
       "      <td>5.0</td>\n",
       "      <td>Rotura</td>\n",
       "    </tr>\n",
       "    <tr>\n",
       "      <th>1</th>\n",
       "      <td>2.0</td>\n",
       "      <td>North Pole</td>\n",
       "      <td>8.0</td>\n",
       "      <td>4.0</td>\n",
       "      <td>6.0</td>\n",
       "      <td>Svalbard</td>\n",
       "    </tr>\n",
       "    <tr>\n",
       "      <th>2</th>\n",
       "      <td>3.0</td>\n",
       "      <td>Turkmenistan</td>\n",
       "      <td>7.0</td>\n",
       "      <td>3.0</td>\n",
       "      <td>9.0</td>\n",
       "      <td>Derweze</td>\n",
       "    </tr>\n",
       "    <tr>\n",
       "      <th>3</th>\n",
       "      <td>4.0</td>\n",
       "      <td>Russia</td>\n",
       "      <td>8.0</td>\n",
       "      <td>5.0</td>\n",
       "      <td>17.0</td>\n",
       "      <td>Yekaterinburg</td>\n",
       "    </tr>\n",
       "    <tr>\n",
       "      <th>4</th>\n",
       "      <td>5.0</td>\n",
       "      <td>Austria</td>\n",
       "      <td>9.0</td>\n",
       "      <td>4.0</td>\n",
       "      <td>12.0</td>\n",
       "      <td>Hinterbruhl</td>\n",
       "    </tr>\n",
       "  </tbody>\n",
       "</table>\n",
       "</div>"
      ],
      "text/plain": [
       "    id   Destination  Feedback  Avg Rating  Hotel_Count   Most Popular\n",
       "0  1.0   New Zealand       9.0         4.0          5.0         Rotura\n",
       "1  2.0    North Pole       8.0         4.0          6.0       Svalbard\n",
       "2  3.0  Turkmenistan       7.0         3.0          9.0        Derweze\n",
       "3  4.0        Russia       8.0         5.0         17.0  Yekaterinburg\n",
       "4  5.0       Austria       9.0         4.0         12.0    Hinterbruhl"
      ]
     },
     "execution_count": 17,
     "metadata": {},
     "output_type": "execute_result"
    }
   ],
   "source": [
    "df.rename(columns = {'All in Hotels' : 'Hotel_Count'}).head()"
   ]
  },
  {
   "cell_type": "code",
   "execution_count": 18,
   "id": "681cf16c",
   "metadata": {
    "execution": {
     "iopub.execute_input": "2023-03-15T11:56:52.282882Z",
     "iopub.status.busy": "2023-03-15T11:56:52.282457Z",
     "iopub.status.idle": "2023-03-15T11:56:52.307398Z",
     "shell.execute_reply": "2023-03-15T11:56:52.305987Z"
    },
    "papermill": {
     "duration": 0.039633,
     "end_time": "2023-03-15T11:56:52.309949",
     "exception": false,
     "start_time": "2023-03-15T11:56:52.270316",
     "status": "completed"
    },
    "tags": []
   },
   "outputs": [
    {
     "data": {
      "text/html": [
       "<div>\n",
       "<style scoped>\n",
       "    .dataframe tbody tr th:only-of-type {\n",
       "        vertical-align: middle;\n",
       "    }\n",
       "\n",
       "    .dataframe tbody tr th {\n",
       "        vertical-align: top;\n",
       "    }\n",
       "\n",
       "    .dataframe thead th {\n",
       "        text-align: right;\n",
       "    }\n",
       "</style>\n",
       "<table border=\"1\" class=\"dataframe\">\n",
       "  <thead>\n",
       "    <tr style=\"text-align: right;\">\n",
       "      <th></th>\n",
       "      <th>id</th>\n",
       "      <th>Feedback</th>\n",
       "      <th>Avg Rating</th>\n",
       "      <th>All in Hotels</th>\n",
       "    </tr>\n",
       "  </thead>\n",
       "  <tbody>\n",
       "    <tr>\n",
       "      <th>count</th>\n",
       "      <td>15.000000</td>\n",
       "      <td>15.000000</td>\n",
       "      <td>15.000000</td>\n",
       "      <td>15.000000</td>\n",
       "    </tr>\n",
       "    <tr>\n",
       "      <th>mean</th>\n",
       "      <td>8.000000</td>\n",
       "      <td>8.200000</td>\n",
       "      <td>3.933333</td>\n",
       "      <td>42.866667</td>\n",
       "    </tr>\n",
       "    <tr>\n",
       "      <th>std</th>\n",
       "      <td>4.472136</td>\n",
       "      <td>1.082326</td>\n",
       "      <td>0.798809</td>\n",
       "      <td>52.398019</td>\n",
       "    </tr>\n",
       "    <tr>\n",
       "      <th>min</th>\n",
       "      <td>1.000000</td>\n",
       "      <td>6.000000</td>\n",
       "      <td>3.000000</td>\n",
       "      <td>2.000000</td>\n",
       "    </tr>\n",
       "    <tr>\n",
       "      <th>25%</th>\n",
       "      <td>4.500000</td>\n",
       "      <td>7.500000</td>\n",
       "      <td>3.000000</td>\n",
       "      <td>7.500000</td>\n",
       "    </tr>\n",
       "    <tr>\n",
       "      <th>50%</th>\n",
       "      <td>8.000000</td>\n",
       "      <td>8.000000</td>\n",
       "      <td>4.000000</td>\n",
       "      <td>20.000000</td>\n",
       "    </tr>\n",
       "    <tr>\n",
       "      <th>75%</th>\n",
       "      <td>11.500000</td>\n",
       "      <td>9.000000</td>\n",
       "      <td>4.500000</td>\n",
       "      <td>65.000000</td>\n",
       "    </tr>\n",
       "    <tr>\n",
       "      <th>max</th>\n",
       "      <td>15.000000</td>\n",
       "      <td>10.000000</td>\n",
       "      <td>5.000000</td>\n",
       "      <td>198.000000</td>\n",
       "    </tr>\n",
       "  </tbody>\n",
       "</table>\n",
       "</div>"
      ],
      "text/plain": [
       "              id   Feedback  Avg Rating  All in Hotels\n",
       "count  15.000000  15.000000   15.000000      15.000000\n",
       "mean    8.000000   8.200000    3.933333      42.866667\n",
       "std     4.472136   1.082326    0.798809      52.398019\n",
       "min     1.000000   6.000000    3.000000       2.000000\n",
       "25%     4.500000   7.500000    3.000000       7.500000\n",
       "50%     8.000000   8.000000    4.000000      20.000000\n",
       "75%    11.500000   9.000000    4.500000      65.000000\n",
       "max    15.000000  10.000000    5.000000     198.000000"
      ]
     },
     "execution_count": 18,
     "metadata": {},
     "output_type": "execute_result"
    }
   ],
   "source": [
    "df.describe() # get statistical analysis"
   ]
  },
  {
   "cell_type": "code",
   "execution_count": 19,
   "id": "05455df8",
   "metadata": {
    "execution": {
     "iopub.execute_input": "2023-03-15T11:56:52.333045Z",
     "iopub.status.busy": "2023-03-15T11:56:52.332603Z",
     "iopub.status.idle": "2023-03-15T11:56:52.349607Z",
     "shell.execute_reply": "2023-03-15T11:56:52.348469Z"
    },
    "papermill": {
     "duration": 0.031431,
     "end_time": "2023-03-15T11:56:52.352072",
     "exception": false,
     "start_time": "2023-03-15T11:56:52.320641",
     "status": "completed"
    },
    "tags": []
   },
   "outputs": [
    {
     "data": {
      "text/html": [
       "<div>\n",
       "<style scoped>\n",
       "    .dataframe tbody tr th:only-of-type {\n",
       "        vertical-align: middle;\n",
       "    }\n",
       "\n",
       "    .dataframe tbody tr th {\n",
       "        vertical-align: top;\n",
       "    }\n",
       "\n",
       "    .dataframe thead th {\n",
       "        text-align: right;\n",
       "    }\n",
       "</style>\n",
       "<table border=\"1\" class=\"dataframe\">\n",
       "  <thead>\n",
       "    <tr style=\"text-align: right;\">\n",
       "      <th></th>\n",
       "      <th>id</th>\n",
       "      <th>Destination</th>\n",
       "      <th>Feedback</th>\n",
       "      <th>Avg Rating</th>\n",
       "      <th>All in Hotels</th>\n",
       "      <th>Most Popular</th>\n",
       "    </tr>\n",
       "  </thead>\n",
       "  <tbody>\n",
       "    <tr>\n",
       "      <th>7</th>\n",
       "      <td>8.0</td>\n",
       "      <td>France</td>\n",
       "      <td>6.0</td>\n",
       "      <td>3.0</td>\n",
       "      <td>24.0</td>\n",
       "      <td>Nantes</td>\n",
       "    </tr>\n",
       "    <tr>\n",
       "      <th>2</th>\n",
       "      <td>3.0</td>\n",
       "      <td>Turkmenistan</td>\n",
       "      <td>7.0</td>\n",
       "      <td>3.0</td>\n",
       "      <td>9.0</td>\n",
       "      <td>Derweze</td>\n",
       "    </tr>\n",
       "    <tr>\n",
       "      <th>13</th>\n",
       "      <td>14.0</td>\n",
       "      <td>Oman</td>\n",
       "      <td>7.0</td>\n",
       "      <td>5.0</td>\n",
       "      <td>2.0</td>\n",
       "      <td>Bahla</td>\n",
       "    </tr>\n",
       "    <tr>\n",
       "      <th>14</th>\n",
       "      <td>15.0</td>\n",
       "      <td>United Kingdom</td>\n",
       "      <td>7.0</td>\n",
       "      <td>4.0</td>\n",
       "      <td>20.0</td>\n",
       "      <td>London</td>\n",
       "    </tr>\n",
       "    <tr>\n",
       "      <th>1</th>\n",
       "      <td>2.0</td>\n",
       "      <td>North Pole</td>\n",
       "      <td>8.0</td>\n",
       "      <td>4.0</td>\n",
       "      <td>6.0</td>\n",
       "      <td>Svalbard</td>\n",
       "    </tr>\n",
       "  </tbody>\n",
       "</table>\n",
       "</div>"
      ],
      "text/plain": [
       "      id     Destination  Feedback  Avg Rating  All in Hotels Most Popular\n",
       "7    8.0          France       6.0         3.0           24.0       Nantes\n",
       "2    3.0    Turkmenistan       7.0         3.0            9.0      Derweze\n",
       "13  14.0            Oman       7.0         5.0            2.0        Bahla\n",
       "14  15.0  United Kingdom       7.0         4.0           20.0       London\n",
       "1    2.0      North Pole       8.0         4.0            6.0     Svalbard"
      ]
     },
     "execution_count": 19,
     "metadata": {},
     "output_type": "execute_result"
    }
   ],
   "source": [
    "df.sort_values('Feedback').head() #sorting the table according to the col slected"
   ]
  },
  {
   "cell_type": "code",
   "execution_count": 20,
   "id": "6e6b2fac",
   "metadata": {
    "execution": {
     "iopub.execute_input": "2023-03-15T11:56:52.377266Z",
     "iopub.status.busy": "2023-03-15T11:56:52.376350Z",
     "iopub.status.idle": "2023-03-15T11:56:52.393372Z",
     "shell.execute_reply": "2023-03-15T11:56:52.392207Z"
    },
    "papermill": {
     "duration": 0.03246,
     "end_time": "2023-03-15T11:56:52.395780",
     "exception": false,
     "start_time": "2023-03-15T11:56:52.363320",
     "status": "completed"
    },
    "tags": []
   },
   "outputs": [
    {
     "data": {
      "text/html": [
       "<div>\n",
       "<style scoped>\n",
       "    .dataframe tbody tr th:only-of-type {\n",
       "        vertical-align: middle;\n",
       "    }\n",
       "\n",
       "    .dataframe tbody tr th {\n",
       "        vertical-align: top;\n",
       "    }\n",
       "\n",
       "    .dataframe thead th {\n",
       "        text-align: right;\n",
       "    }\n",
       "</style>\n",
       "<table border=\"1\" class=\"dataframe\">\n",
       "  <thead>\n",
       "    <tr style=\"text-align: right;\">\n",
       "      <th></th>\n",
       "      <th>id</th>\n",
       "      <th>Destination</th>\n",
       "      <th>Feedback</th>\n",
       "      <th>Avg Rating</th>\n",
       "      <th>All in Hotels</th>\n",
       "      <th>Most Popular</th>\n",
       "    </tr>\n",
       "  </thead>\n",
       "  <tbody>\n",
       "    <tr>\n",
       "      <th>10</th>\n",
       "      <td>11.0</td>\n",
       "      <td>Japan</td>\n",
       "      <td>10.0</td>\n",
       "      <td>5.0</td>\n",
       "      <td>90.0</td>\n",
       "      <td>Beppu</td>\n",
       "    </tr>\n",
       "    <tr>\n",
       "      <th>0</th>\n",
       "      <td>1.0</td>\n",
       "      <td>New Zealand</td>\n",
       "      <td>9.0</td>\n",
       "      <td>4.0</td>\n",
       "      <td>5.0</td>\n",
       "      <td>Rotura</td>\n",
       "    </tr>\n",
       "    <tr>\n",
       "      <th>4</th>\n",
       "      <td>5.0</td>\n",
       "      <td>Austria</td>\n",
       "      <td>9.0</td>\n",
       "      <td>4.0</td>\n",
       "      <td>12.0</td>\n",
       "      <td>Hinterbruhl</td>\n",
       "    </tr>\n",
       "    <tr>\n",
       "      <th>6</th>\n",
       "      <td>7.0</td>\n",
       "      <td>Italy</td>\n",
       "      <td>9.0</td>\n",
       "      <td>5.0</td>\n",
       "      <td>76.0</td>\n",
       "      <td>Puglia</td>\n",
       "    </tr>\n",
       "    <tr>\n",
       "      <th>9</th>\n",
       "      <td>10.0</td>\n",
       "      <td>Indonesia</td>\n",
       "      <td>9.0</td>\n",
       "      <td>4.0</td>\n",
       "      <td>80.0</td>\n",
       "      <td>Aceh</td>\n",
       "    </tr>\n",
       "  </tbody>\n",
       "</table>\n",
       "</div>"
      ],
      "text/plain": [
       "      id  Destination  Feedback  Avg Rating  All in Hotels Most Popular\n",
       "10  11.0        Japan      10.0         5.0           90.0        Beppu\n",
       "0    1.0  New Zealand       9.0         4.0            5.0       Rotura\n",
       "4    5.0      Austria       9.0         4.0           12.0  Hinterbruhl\n",
       "6    7.0        Italy       9.0         5.0           76.0       Puglia\n",
       "9   10.0    Indonesia       9.0         4.0           80.0         Aceh"
      ]
     },
     "execution_count": 20,
     "metadata": {},
     "output_type": "execute_result"
    }
   ],
   "source": [
    "df.sort_values('Feedback', ascending = False).head() #sorting the table according to the col slected"
   ]
  },
  {
   "cell_type": "code",
   "execution_count": 21,
   "id": "1fdaafcc",
   "metadata": {
    "execution": {
     "iopub.execute_input": "2023-03-15T11:56:52.420042Z",
     "iopub.status.busy": "2023-03-15T11:56:52.419596Z",
     "iopub.status.idle": "2023-03-15T11:56:52.435969Z",
     "shell.execute_reply": "2023-03-15T11:56:52.434708Z"
    },
    "papermill": {
     "duration": 0.031613,
     "end_time": "2023-03-15T11:56:52.438671",
     "exception": false,
     "start_time": "2023-03-15T11:56:52.407058",
     "status": "completed"
    },
    "tags": []
   },
   "outputs": [
    {
     "data": {
      "text/html": [
       "<div>\n",
       "<style scoped>\n",
       "    .dataframe tbody tr th:only-of-type {\n",
       "        vertical-align: middle;\n",
       "    }\n",
       "\n",
       "    .dataframe tbody tr th {\n",
       "        vertical-align: top;\n",
       "    }\n",
       "\n",
       "    .dataframe thead th {\n",
       "        text-align: right;\n",
       "    }\n",
       "</style>\n",
       "<table border=\"1\" class=\"dataframe\">\n",
       "  <thead>\n",
       "    <tr style=\"text-align: right;\">\n",
       "      <th></th>\n",
       "      <th>id</th>\n",
       "      <th>Destination</th>\n",
       "      <th>Feedback</th>\n",
       "      <th>Avg Rating</th>\n",
       "      <th>All in Hotels</th>\n",
       "      <th>Most Popular</th>\n",
       "    </tr>\n",
       "  </thead>\n",
       "  <tbody>\n",
       "    <tr>\n",
       "      <th>7</th>\n",
       "      <td>8.0</td>\n",
       "      <td>France</td>\n",
       "      <td>6.0</td>\n",
       "      <td>3.0</td>\n",
       "      <td>24.0</td>\n",
       "      <td>Nantes</td>\n",
       "    </tr>\n",
       "    <tr>\n",
       "      <th>2</th>\n",
       "      <td>3.0</td>\n",
       "      <td>Turkmenistan</td>\n",
       "      <td>7.0</td>\n",
       "      <td>3.0</td>\n",
       "      <td>9.0</td>\n",
       "      <td>Derweze</td>\n",
       "    </tr>\n",
       "    <tr>\n",
       "      <th>13</th>\n",
       "      <td>14.0</td>\n",
       "      <td>Oman</td>\n",
       "      <td>7.0</td>\n",
       "      <td>5.0</td>\n",
       "      <td>2.0</td>\n",
       "      <td>Bahla</td>\n",
       "    </tr>\n",
       "    <tr>\n",
       "      <th>14</th>\n",
       "      <td>15.0</td>\n",
       "      <td>United Kingdom</td>\n",
       "      <td>7.0</td>\n",
       "      <td>4.0</td>\n",
       "      <td>20.0</td>\n",
       "      <td>London</td>\n",
       "    </tr>\n",
       "    <tr>\n",
       "      <th>1</th>\n",
       "      <td>2.0</td>\n",
       "      <td>North Pole</td>\n",
       "      <td>8.0</td>\n",
       "      <td>4.0</td>\n",
       "      <td>6.0</td>\n",
       "      <td>Svalbard</td>\n",
       "    </tr>\n",
       "  </tbody>\n",
       "</table>\n",
       "</div>"
      ],
      "text/plain": [
       "      id     Destination  Feedback  Avg Rating  All in Hotels Most Popular\n",
       "7    8.0          France       6.0         3.0           24.0       Nantes\n",
       "2    3.0    Turkmenistan       7.0         3.0            9.0      Derweze\n",
       "13  14.0            Oman       7.0         5.0            2.0        Bahla\n",
       "14  15.0  United Kingdom       7.0         4.0           20.0       London\n",
       "1    2.0      North Pole       8.0         4.0            6.0     Svalbard"
      ]
     },
     "execution_count": 21,
     "metadata": {},
     "output_type": "execute_result"
    }
   ],
   "source": [
    "df.sort_values('Feedback', ascending = True).head() #sorting the table according to the col slected"
   ]
  },
  {
   "cell_type": "code",
   "execution_count": 22,
   "id": "a1594efe",
   "metadata": {
    "execution": {
     "iopub.execute_input": "2023-03-15T11:56:52.463840Z",
     "iopub.status.busy": "2023-03-15T11:56:52.463148Z",
     "iopub.status.idle": "2023-03-15T11:56:52.488776Z",
     "shell.execute_reply": "2023-03-15T11:56:52.487517Z"
    },
    "papermill": {
     "duration": 0.041138,
     "end_time": "2023-03-15T11:56:52.491342",
     "exception": false,
     "start_time": "2023-03-15T11:56:52.450204",
     "status": "completed"
    },
    "tags": []
   },
   "outputs": [
    {
     "data": {
      "text/html": [
       "<div>\n",
       "<style scoped>\n",
       "    .dataframe tbody tr th:only-of-type {\n",
       "        vertical-align: middle;\n",
       "    }\n",
       "\n",
       "    .dataframe tbody tr th {\n",
       "        vertical-align: top;\n",
       "    }\n",
       "\n",
       "    .dataframe thead th {\n",
       "        text-align: right;\n",
       "    }\n",
       "</style>\n",
       "<table border=\"1\" class=\"dataframe\">\n",
       "  <thead>\n",
       "    <tr style=\"text-align: right;\">\n",
       "      <th></th>\n",
       "      <th>id</th>\n",
       "      <th>Destination</th>\n",
       "      <th>Feedback</th>\n",
       "      <th>Avg Rating</th>\n",
       "      <th>All in Hotels</th>\n",
       "      <th>Most Popular</th>\n",
       "    </tr>\n",
       "  </thead>\n",
       "  <tbody>\n",
       "    <tr>\n",
       "      <th>4</th>\n",
       "      <td>5.0</td>\n",
       "      <td>Austria</td>\n",
       "      <td>9.0</td>\n",
       "      <td>4.0</td>\n",
       "      <td>12.0</td>\n",
       "      <td>Hinterbruhl</td>\n",
       "    </tr>\n",
       "    <tr>\n",
       "      <th>5</th>\n",
       "      <td>6.0</td>\n",
       "      <td>China</td>\n",
       "      <td>8.0</td>\n",
       "      <td>3.0</td>\n",
       "      <td>198.0</td>\n",
       "      <td>Xinjiang</td>\n",
       "    </tr>\n",
       "    <tr>\n",
       "      <th>7</th>\n",
       "      <td>8.0</td>\n",
       "      <td>France</td>\n",
       "      <td>6.0</td>\n",
       "      <td>3.0</td>\n",
       "      <td>24.0</td>\n",
       "      <td>Nantes</td>\n",
       "    </tr>\n",
       "    <tr>\n",
       "      <th>8</th>\n",
       "      <td>9.0</td>\n",
       "      <td>India</td>\n",
       "      <td>8.0</td>\n",
       "      <td>3.0</td>\n",
       "      <td>45.0</td>\n",
       "      <td>Ladakh</td>\n",
       "    </tr>\n",
       "    <tr>\n",
       "      <th>9</th>\n",
       "      <td>10.0</td>\n",
       "      <td>Indonesia</td>\n",
       "      <td>9.0</td>\n",
       "      <td>4.0</td>\n",
       "      <td>80.0</td>\n",
       "      <td>Aceh</td>\n",
       "    </tr>\n",
       "    <tr>\n",
       "      <th>6</th>\n",
       "      <td>7.0</td>\n",
       "      <td>Italy</td>\n",
       "      <td>9.0</td>\n",
       "      <td>5.0</td>\n",
       "      <td>76.0</td>\n",
       "      <td>Puglia</td>\n",
       "    </tr>\n",
       "    <tr>\n",
       "      <th>10</th>\n",
       "      <td>11.0</td>\n",
       "      <td>Japan</td>\n",
       "      <td>10.0</td>\n",
       "      <td>5.0</td>\n",
       "      <td>90.0</td>\n",
       "      <td>Beppu</td>\n",
       "    </tr>\n",
       "    <tr>\n",
       "      <th>0</th>\n",
       "      <td>1.0</td>\n",
       "      <td>New Zealand</td>\n",
       "      <td>9.0</td>\n",
       "      <td>4.0</td>\n",
       "      <td>5.0</td>\n",
       "      <td>Rotura</td>\n",
       "    </tr>\n",
       "    <tr>\n",
       "      <th>1</th>\n",
       "      <td>2.0</td>\n",
       "      <td>North Pole</td>\n",
       "      <td>8.0</td>\n",
       "      <td>4.0</td>\n",
       "      <td>6.0</td>\n",
       "      <td>Svalbard</td>\n",
       "    </tr>\n",
       "    <tr>\n",
       "      <th>13</th>\n",
       "      <td>14.0</td>\n",
       "      <td>Oman</td>\n",
       "      <td>7.0</td>\n",
       "      <td>5.0</td>\n",
       "      <td>2.0</td>\n",
       "      <td>Bahla</td>\n",
       "    </tr>\n",
       "    <tr>\n",
       "      <th>12</th>\n",
       "      <td>13.0</td>\n",
       "      <td>Palestine</td>\n",
       "      <td>9.0</td>\n",
       "      <td>3.0</td>\n",
       "      <td>5.0</td>\n",
       "      <td>Jerusalem</td>\n",
       "    </tr>\n",
       "    <tr>\n",
       "      <th>3</th>\n",
       "      <td>4.0</td>\n",
       "      <td>Russia</td>\n",
       "      <td>8.0</td>\n",
       "      <td>5.0</td>\n",
       "      <td>17.0</td>\n",
       "      <td>Yekaterinburg</td>\n",
       "    </tr>\n",
       "    <tr>\n",
       "      <th>11</th>\n",
       "      <td>12.0</td>\n",
       "      <td>Turkey</td>\n",
       "      <td>9.0</td>\n",
       "      <td>4.0</td>\n",
       "      <td>54.0</td>\n",
       "      <td>Faralya</td>\n",
       "    </tr>\n",
       "    <tr>\n",
       "      <th>2</th>\n",
       "      <td>3.0</td>\n",
       "      <td>Turkmenistan</td>\n",
       "      <td>7.0</td>\n",
       "      <td>3.0</td>\n",
       "      <td>9.0</td>\n",
       "      <td>Derweze</td>\n",
       "    </tr>\n",
       "    <tr>\n",
       "      <th>14</th>\n",
       "      <td>15.0</td>\n",
       "      <td>United Kingdom</td>\n",
       "      <td>7.0</td>\n",
       "      <td>4.0</td>\n",
       "      <td>20.0</td>\n",
       "      <td>London</td>\n",
       "    </tr>\n",
       "    <tr>\n",
       "      <th>15</th>\n",
       "      <td>NaN</td>\n",
       "      <td>NaN</td>\n",
       "      <td>NaN</td>\n",
       "      <td>NaN</td>\n",
       "      <td>NaN</td>\n",
       "      <td>NaN</td>\n",
       "    </tr>\n",
       "    <tr>\n",
       "      <th>16</th>\n",
       "      <td>NaN</td>\n",
       "      <td>NaN</td>\n",
       "      <td>NaN</td>\n",
       "      <td>NaN</td>\n",
       "      <td>NaN</td>\n",
       "      <td>NaN</td>\n",
       "    </tr>\n",
       "  </tbody>\n",
       "</table>\n",
       "</div>"
      ],
      "text/plain": [
       "      id     Destination  Feedback  Avg Rating  All in Hotels   Most Popular\n",
       "4    5.0         Austria       9.0         4.0           12.0    Hinterbruhl\n",
       "5    6.0           China       8.0         3.0          198.0       Xinjiang\n",
       "7    8.0          France       6.0         3.0           24.0         Nantes\n",
       "8    9.0           India       8.0         3.0           45.0         Ladakh\n",
       "9   10.0       Indonesia       9.0         4.0           80.0           Aceh\n",
       "6    7.0           Italy       9.0         5.0           76.0         Puglia\n",
       "10  11.0           Japan      10.0         5.0           90.0          Beppu\n",
       "0    1.0     New Zealand       9.0         4.0            5.0         Rotura\n",
       "1    2.0      North Pole       8.0         4.0            6.0       Svalbard\n",
       "13  14.0            Oman       7.0         5.0            2.0          Bahla\n",
       "12  13.0       Palestine       9.0         3.0            5.0      Jerusalem\n",
       "3    4.0          Russia       8.0         5.0           17.0  Yekaterinburg\n",
       "11  12.0          Turkey       9.0         4.0           54.0        Faralya\n",
       "2    3.0    Turkmenistan       7.0         3.0            9.0        Derweze\n",
       "14  15.0  United Kingdom       7.0         4.0           20.0         London\n",
       "15   NaN             NaN       NaN         NaN            NaN            NaN\n",
       "16   NaN             NaN       NaN         NaN            NaN            NaN"
      ]
     },
     "execution_count": 22,
     "metadata": {},
     "output_type": "execute_result"
    }
   ],
   "source": [
    "df.sort_values(['Destination', 'Avg Rating'], ascending = [True, False])\n",
    "# First, sort Destination col in ascending format\n",
    "# Second, sort Avg Rating col in descending format"
   ]
  },
  {
   "cell_type": "code",
   "execution_count": 23,
   "id": "b19e0faf",
   "metadata": {
    "execution": {
     "iopub.execute_input": "2023-03-15T11:56:52.516337Z",
     "iopub.status.busy": "2023-03-15T11:56:52.515928Z",
     "iopub.status.idle": "2023-03-15T11:56:52.523267Z",
     "shell.execute_reply": "2023-03-15T11:56:52.522134Z"
    },
    "papermill": {
     "duration": 0.022729,
     "end_time": "2023-03-15T11:56:52.525629",
     "exception": false,
     "start_time": "2023-03-15T11:56:52.502900",
     "status": "completed"
    },
    "tags": []
   },
   "outputs": [
    {
     "data": {
      "text/plain": [
       "198.0"
      ]
     },
     "execution_count": 23,
     "metadata": {},
     "output_type": "execute_result"
    }
   ],
   "source": [
    "df['All in Hotels'].max()"
   ]
  },
  {
   "cell_type": "code",
   "execution_count": 24,
   "id": "9561465f",
   "metadata": {
    "execution": {
     "iopub.execute_input": "2023-03-15T11:56:52.550910Z",
     "iopub.status.busy": "2023-03-15T11:56:52.550488Z",
     "iopub.status.idle": "2023-03-15T11:56:52.558030Z",
     "shell.execute_reply": "2023-03-15T11:56:52.556885Z"
    },
    "papermill": {
     "duration": 0.023345,
     "end_time": "2023-03-15T11:56:52.560500",
     "exception": false,
     "start_time": "2023-03-15T11:56:52.537155",
     "status": "completed"
    },
    "tags": []
   },
   "outputs": [
    {
     "data": {
      "text/plain": [
       "10.0"
      ]
     },
     "execution_count": 24,
     "metadata": {},
     "output_type": "execute_result"
    }
   ],
   "source": [
    "df['Feedback'].max()"
   ]
  },
  {
   "cell_type": "code",
   "execution_count": 25,
   "id": "d3cc4ea3",
   "metadata": {
    "execution": {
     "iopub.execute_input": "2023-03-15T11:56:52.586153Z",
     "iopub.status.busy": "2023-03-15T11:56:52.585720Z",
     "iopub.status.idle": "2023-03-15T11:56:52.591336Z",
     "shell.execute_reply": "2023-03-15T11:56:52.590347Z"
    },
    "papermill": {
     "duration": 0.021286,
     "end_time": "2023-03-15T11:56:52.593685",
     "exception": false,
     "start_time": "2023-03-15T11:56:52.572399",
     "status": "completed"
    },
    "tags": []
   },
   "outputs": [],
   "source": [
    "df_filter = df[df['Avg Rating'] > 3] #asccessing the col which has more than 3 rating\n",
    "destinations = df_filter['Destination'] #displaying necessary cols"
   ]
  },
  {
   "cell_type": "code",
   "execution_count": 26,
   "id": "906b6a15",
   "metadata": {
    "execution": {
     "iopub.execute_input": "2023-03-15T11:56:52.619670Z",
     "iopub.status.busy": "2023-03-15T11:56:52.618612Z",
     "iopub.status.idle": "2023-03-15T11:56:52.627186Z",
     "shell.execute_reply": "2023-03-15T11:56:52.625882Z"
    },
    "papermill": {
     "duration": 0.023907,
     "end_time": "2023-03-15T11:56:52.629580",
     "exception": false,
     "start_time": "2023-03-15T11:56:52.605673",
     "status": "completed"
    },
    "tags": []
   },
   "outputs": [
    {
     "data": {
      "text/plain": [
       "0        New Zealand\n",
       "1         North Pole\n",
       "3             Russia\n",
       "4            Austria\n",
       "6              Italy\n",
       "9          Indonesia\n",
       "10             Japan\n",
       "11            Turkey\n",
       "13              Oman\n",
       "14    United Kingdom\n",
       "Name: Destination, dtype: object"
      ]
     },
     "execution_count": 26,
     "metadata": {},
     "output_type": "execute_result"
    }
   ],
   "source": [
    "destinations"
   ]
  },
  {
   "cell_type": "markdown",
   "id": "fbbe331c",
   "metadata": {
    "papermill": {
     "duration": 0.011391,
     "end_time": "2023-03-15T11:56:52.652908",
     "exception": false,
     "start_time": "2023-03-15T11:56:52.641517",
     "status": "completed"
    },
    "tags": []
   },
   "source": [
    "Exercises - display desinations which has more than 7 feedbacks"
   ]
  },
  {
   "cell_type": "code",
   "execution_count": 27,
   "id": "0dff3e8b",
   "metadata": {
    "execution": {
     "iopub.execute_input": "2023-03-15T11:56:52.678829Z",
     "iopub.status.busy": "2023-03-15T11:56:52.678115Z",
     "iopub.status.idle": "2023-03-15T11:56:52.684482Z",
     "shell.execute_reply": "2023-03-15T11:56:52.683538Z"
    },
    "papermill": {
     "duration": 0.02214,
     "end_time": "2023-03-15T11:56:52.686824",
     "exception": false,
     "start_time": "2023-03-15T11:56:52.664684",
     "status": "completed"
    },
    "tags": []
   },
   "outputs": [],
   "source": [
    "df_filter = df[df['Feedback'] > 7] #asccessing the col which has more than 3 rating\n",
    "destinations = df_filter['Destination'] #displaying necessary cols"
   ]
  },
  {
   "cell_type": "code",
   "execution_count": 28,
   "id": "947bbdf6",
   "metadata": {
    "execution": {
     "iopub.execute_input": "2023-03-15T11:56:52.713135Z",
     "iopub.status.busy": "2023-03-15T11:56:52.712633Z",
     "iopub.status.idle": "2023-03-15T11:56:52.720823Z",
     "shell.execute_reply": "2023-03-15T11:56:52.719511Z"
    },
    "papermill": {
     "duration": 0.024445,
     "end_time": "2023-03-15T11:56:52.723192",
     "exception": false,
     "start_time": "2023-03-15T11:56:52.698747",
     "status": "completed"
    },
    "tags": []
   },
   "outputs": [
    {
     "data": {
      "text/plain": [
       "0     New Zealand\n",
       "1      North Pole\n",
       "3          Russia\n",
       "4         Austria\n",
       "5           China\n",
       "6           Italy\n",
       "8           India\n",
       "9       Indonesia\n",
       "10          Japan\n",
       "11         Turkey\n",
       "12      Palestine\n",
       "Name: Destination, dtype: object"
      ]
     },
     "execution_count": 28,
     "metadata": {},
     "output_type": "execute_result"
    }
   ],
   "source": [
    "destinations"
   ]
  }
 ],
 "metadata": {
  "kernelspec": {
   "display_name": "Python 3",
   "language": "python",
   "name": "python3"
  },
  "language_info": {
   "codemirror_mode": {
    "name": "ipython",
    "version": 3
   },
   "file_extension": ".py",
   "mimetype": "text/x-python",
   "name": "python",
   "nbconvert_exporter": "python",
   "pygments_lexer": "ipython3",
   "version": "3.7.12"
  },
  "papermill": {
   "default_parameters": {},
   "duration": 12.793685,
   "end_time": "2023-03-15T11:56:53.457294",
   "environment_variables": {},
   "exception": null,
   "input_path": "__notebook__.ipynb",
   "output_path": "__notebook__.ipynb",
   "parameters": {},
   "start_time": "2023-03-15T11:56:40.663609",
   "version": "2.4.0"
  }
 },
 "nbformat": 4,
 "nbformat_minor": 5
}
